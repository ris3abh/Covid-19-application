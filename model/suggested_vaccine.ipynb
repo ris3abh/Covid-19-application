{
 "cells": [
  {
   "cell_type": "code",
   "execution_count": 1,
   "metadata": {},
   "outputs": [],
   "source": [
    "##creating a model to suggest a vaccine given symptoms and age"
   ]
  },
  {
   "cell_type": "code",
   "execution_count": 2,
   "metadata": {},
   "outputs": [],
   "source": [
    "import pandas as pd\n",
    "import numpy as np\n",
    "import matplotlib.pyplot as plt\n",
    "import seaborn as sns\n",
    "from sklearn.model_selection import train_test_split\n",
    "from sklearn.linear_model import LogisticRegression\n",
    "from sklearn.metrics import classification_report, confusion_matrix\n",
    "from sklearn.preprocessing import StandardScaler\n",
    "from sklearn.preprocessing import LabelEncoder\n",
    "from sklearn.preprocessing import OneHotEncoder\n",
    "from sklearn.compose import ColumnTransformer\n",
    "from sklearn.pipeline import Pipeline\n",
    "from sklearn.model_selection import GridSearchCV\n",
    "from sklearn.metrics import accuracy_score\n",
    "from sklearn.metrics import roc_auc_score\n"
   ]
  },
  {
   "cell_type": "code",
   "execution_count": 3,
   "metadata": {},
   "outputs": [
    {
     "name": "stderr",
     "output_type": "stream",
     "text": [
      "/var/folders/fj/r2kb_f4d3k1gxmcwsdc81_1r0000gn/T/ipykernel_2375/3013453080.py:1: DtypeWarning: Columns (7,12,23) have mixed types. Specify dtype option on import or set low_memory=False.\n",
      "  df = pd.read_csv('/Users/rishabhsharma/Documents/GitHub/Covid-19-application/data/2021VAERSDATA.csv',encoding='latin-1')\n"
     ]
    },
    {
     "data": {
      "text/html": [
       "<div>\n",
       "<style scoped>\n",
       "    .dataframe tbody tr th:only-of-type {\n",
       "        vertical-align: middle;\n",
       "    }\n",
       "\n",
       "    .dataframe tbody tr th {\n",
       "        vertical-align: top;\n",
       "    }\n",
       "\n",
       "    .dataframe thead th {\n",
       "        text-align: right;\n",
       "    }\n",
       "</style>\n",
       "<table border=\"1\" class=\"dataframe\">\n",
       "  <thead>\n",
       "    <tr style=\"text-align: right;\">\n",
       "      <th></th>\n",
       "      <th>VAERS_ID</th>\n",
       "      <th>RECVDATE</th>\n",
       "      <th>STATE</th>\n",
       "      <th>AGE_YRS</th>\n",
       "      <th>CAGE_YR</th>\n",
       "      <th>CAGE_MO</th>\n",
       "      <th>SEX</th>\n",
       "      <th>RPT_DATE</th>\n",
       "      <th>SYMPTOM_TEXT</th>\n",
       "      <th>DIED</th>\n",
       "      <th>...</th>\n",
       "      <th>CUR_ILL</th>\n",
       "      <th>HISTORY</th>\n",
       "      <th>PRIOR_VAX</th>\n",
       "      <th>SPLTTYPE</th>\n",
       "      <th>FORM_VERS</th>\n",
       "      <th>TODAYS_DATE</th>\n",
       "      <th>BIRTH_DEFECT</th>\n",
       "      <th>OFC_VISIT</th>\n",
       "      <th>ER_ED_VISIT</th>\n",
       "      <th>ALLERGIES</th>\n",
       "    </tr>\n",
       "  </thead>\n",
       "  <tbody>\n",
       "    <tr>\n",
       "      <th>0</th>\n",
       "      <td>916600</td>\n",
       "      <td>01/01/2021</td>\n",
       "      <td>TX</td>\n",
       "      <td>33.0</td>\n",
       "      <td>33.0</td>\n",
       "      <td>NaN</td>\n",
       "      <td>F</td>\n",
       "      <td>NaN</td>\n",
       "      <td>Right side of epiglottis swelled up and hinder...</td>\n",
       "      <td>NaN</td>\n",
       "      <td>...</td>\n",
       "      <td>None</td>\n",
       "      <td>None</td>\n",
       "      <td>NaN</td>\n",
       "      <td>NaN</td>\n",
       "      <td>2</td>\n",
       "      <td>01/01/2021</td>\n",
       "      <td>NaN</td>\n",
       "      <td>Y</td>\n",
       "      <td>NaN</td>\n",
       "      <td>Pcn and bee venom</td>\n",
       "    </tr>\n",
       "    <tr>\n",
       "      <th>1</th>\n",
       "      <td>916601</td>\n",
       "      <td>01/01/2021</td>\n",
       "      <td>CA</td>\n",
       "      <td>73.0</td>\n",
       "      <td>73.0</td>\n",
       "      <td>NaN</td>\n",
       "      <td>F</td>\n",
       "      <td>NaN</td>\n",
       "      <td>Approximately 30 min post vaccination administ...</td>\n",
       "      <td>NaN</td>\n",
       "      <td>...</td>\n",
       "      <td>Patient residing at nursing facility. See pati...</td>\n",
       "      <td>Patient residing at nursing facility. See pati...</td>\n",
       "      <td>NaN</td>\n",
       "      <td>NaN</td>\n",
       "      <td>2</td>\n",
       "      <td>01/01/2021</td>\n",
       "      <td>NaN</td>\n",
       "      <td>Y</td>\n",
       "      <td>NaN</td>\n",
       "      <td>\"Dairy\"</td>\n",
       "    </tr>\n",
       "    <tr>\n",
       "      <th>2</th>\n",
       "      <td>916602</td>\n",
       "      <td>01/01/2021</td>\n",
       "      <td>WA</td>\n",
       "      <td>23.0</td>\n",
       "      <td>23.0</td>\n",
       "      <td>NaN</td>\n",
       "      <td>F</td>\n",
       "      <td>NaN</td>\n",
       "      <td>About 15 minutes after receiving the vaccine, ...</td>\n",
       "      <td>NaN</td>\n",
       "      <td>...</td>\n",
       "      <td>None</td>\n",
       "      <td>None</td>\n",
       "      <td>NaN</td>\n",
       "      <td>NaN</td>\n",
       "      <td>2</td>\n",
       "      <td>01/01/2021</td>\n",
       "      <td>NaN</td>\n",
       "      <td>NaN</td>\n",
       "      <td>Y</td>\n",
       "      <td>Shellfish</td>\n",
       "    </tr>\n",
       "    <tr>\n",
       "      <th>3</th>\n",
       "      <td>916603</td>\n",
       "      <td>01/01/2021</td>\n",
       "      <td>WA</td>\n",
       "      <td>58.0</td>\n",
       "      <td>58.0</td>\n",
       "      <td>NaN</td>\n",
       "      <td>F</td>\n",
       "      <td>NaN</td>\n",
       "      <td>extreme fatigue, dizziness,. could not lift my...</td>\n",
       "      <td>NaN</td>\n",
       "      <td>...</td>\n",
       "      <td>kidney infection</td>\n",
       "      <td>diverticulitis, mitral valve prolapse, osteoar...</td>\n",
       "      <td>got measles from measel shot, mums from mumps ...</td>\n",
       "      <td>NaN</td>\n",
       "      <td>2</td>\n",
       "      <td>01/01/2021</td>\n",
       "      <td>NaN</td>\n",
       "      <td>NaN</td>\n",
       "      <td>NaN</td>\n",
       "      <td>Diclofenac, novacaine, lidocaine, pickles, tom...</td>\n",
       "    </tr>\n",
       "    <tr>\n",
       "      <th>4</th>\n",
       "      <td>916604</td>\n",
       "      <td>01/01/2021</td>\n",
       "      <td>TX</td>\n",
       "      <td>47.0</td>\n",
       "      <td>47.0</td>\n",
       "      <td>NaN</td>\n",
       "      <td>F</td>\n",
       "      <td>NaN</td>\n",
       "      <td>Injection site swelling, redness, warm to the ...</td>\n",
       "      <td>NaN</td>\n",
       "      <td>...</td>\n",
       "      <td>Na</td>\n",
       "      <td>NaN</td>\n",
       "      <td>NaN</td>\n",
       "      <td>NaN</td>\n",
       "      <td>2</td>\n",
       "      <td>01/01/2021</td>\n",
       "      <td>NaN</td>\n",
       "      <td>NaN</td>\n",
       "      <td>NaN</td>\n",
       "      <td>Na</td>\n",
       "    </tr>\n",
       "  </tbody>\n",
       "</table>\n",
       "<p>5 rows × 35 columns</p>\n",
       "</div>"
      ],
      "text/plain": [
       "   VAERS_ID    RECVDATE STATE  AGE_YRS  CAGE_YR  CAGE_MO SEX RPT_DATE  \\\n",
       "0    916600  01/01/2021    TX     33.0     33.0      NaN   F      NaN   \n",
       "1    916601  01/01/2021    CA     73.0     73.0      NaN   F      NaN   \n",
       "2    916602  01/01/2021    WA     23.0     23.0      NaN   F      NaN   \n",
       "3    916603  01/01/2021    WA     58.0     58.0      NaN   F      NaN   \n",
       "4    916604  01/01/2021    TX     47.0     47.0      NaN   F      NaN   \n",
       "\n",
       "                                        SYMPTOM_TEXT DIED  ...  \\\n",
       "0  Right side of epiglottis swelled up and hinder...  NaN  ...   \n",
       "1  Approximately 30 min post vaccination administ...  NaN  ...   \n",
       "2  About 15 minutes after receiving the vaccine, ...  NaN  ...   \n",
       "3  extreme fatigue, dizziness,. could not lift my...  NaN  ...   \n",
       "4  Injection site swelling, redness, warm to the ...  NaN  ...   \n",
       "\n",
       "                                             CUR_ILL  \\\n",
       "0                                               None   \n",
       "1  Patient residing at nursing facility. See pati...   \n",
       "2                                               None   \n",
       "3                                   kidney infection   \n",
       "4                                                 Na   \n",
       "\n",
       "                                             HISTORY  \\\n",
       "0                                               None   \n",
       "1  Patient residing at nursing facility. See pati...   \n",
       "2                                               None   \n",
       "3  diverticulitis, mitral valve prolapse, osteoar...   \n",
       "4                                                NaN   \n",
       "\n",
       "                                           PRIOR_VAX SPLTTYPE  FORM_VERS  \\\n",
       "0                                                NaN      NaN          2   \n",
       "1                                                NaN      NaN          2   \n",
       "2                                                NaN      NaN          2   \n",
       "3  got measles from measel shot, mums from mumps ...      NaN          2   \n",
       "4                                                NaN      NaN          2   \n",
       "\n",
       "  TODAYS_DATE BIRTH_DEFECT OFC_VISIT ER_ED_VISIT  \\\n",
       "0  01/01/2021          NaN         Y         NaN   \n",
       "1  01/01/2021          NaN         Y         NaN   \n",
       "2  01/01/2021          NaN       NaN           Y   \n",
       "3  01/01/2021          NaN       NaN         NaN   \n",
       "4  01/01/2021          NaN       NaN         NaN   \n",
       "\n",
       "                                           ALLERGIES  \n",
       "0                                  Pcn and bee venom  \n",
       "1                                            \"Dairy\"  \n",
       "2                                          Shellfish  \n",
       "3  Diclofenac, novacaine, lidocaine, pickles, tom...  \n",
       "4                                                 Na  \n",
       "\n",
       "[5 rows x 35 columns]"
      ]
     },
     "execution_count": 3,
     "metadata": {},
     "output_type": "execute_result"
    }
   ],
   "source": [
    "df = pd.read_csv('/Users/rishabhsharma/Documents/GitHub/Covid-19-application/data/2021VAERSDATA.csv',encoding='latin-1')\n",
    "df.head()"
   ]
  },
  {
   "cell_type": "code",
   "execution_count": 4,
   "metadata": {},
   "outputs": [
    {
     "data": {
      "text/plain": [
       "(34121, 35)"
      ]
     },
     "execution_count": 4,
     "metadata": {},
     "output_type": "execute_result"
    }
   ],
   "source": [
    "df.shape"
   ]
  },
  {
   "cell_type": "code",
   "execution_count": 5,
   "metadata": {},
   "outputs": [
    {
     "data": {
      "text/plain": [
       "Index(['VAERS_ID', 'RECVDATE', 'STATE', 'AGE_YRS', 'CAGE_YR', 'CAGE_MO', 'SEX',\n",
       "       'RPT_DATE', 'SYMPTOM_TEXT', 'DIED', 'DATEDIED', 'L_THREAT', 'ER_VISIT',\n",
       "       'HOSPITAL', 'HOSPDAYS', 'X_STAY', 'DISABLE', 'RECOVD', 'VAX_DATE',\n",
       "       'ONSET_DATE', 'NUMDAYS', 'LAB_DATA', 'V_ADMINBY', 'V_FUNDBY',\n",
       "       'OTHER_MEDS', 'CUR_ILL', 'HISTORY', 'PRIOR_VAX', 'SPLTTYPE',\n",
       "       'FORM_VERS', 'TODAYS_DATE', 'BIRTH_DEFECT', 'OFC_VISIT', 'ER_ED_VISIT',\n",
       "       'ALLERGIES'],\n",
       "      dtype='object')"
      ]
     },
     "execution_count": 5,
     "metadata": {},
     "output_type": "execute_result"
    }
   ],
   "source": [
    "df.columns"
   ]
  },
  {
   "cell_type": "code",
   "execution_count": 6,
   "metadata": {},
   "outputs": [],
   "source": [
    "df.drop(['RECVDATE', 'CAGE_YR', 'CAGE_MO', 'RPT_DATE', 'DIED', 'DATEDIED', 'ER_VISIT', 'HOSPITAL', 'HOSPDAYS', 'X_STAY', 'DISABLE'\n",
    "            ,'RECOVD', 'VAX_DATE', 'ONSET_DATE', 'NUMDAYS', 'LAB_DATA', 'V_ADMINBY', 'V_FUNDBY','SPLTTYPE','FORM_VERS', 'TODAYS_DATE', 'OFC_VISIT', 'ER_ED_VISIT'\n",
    "            ,'L_THREAT', 'PRIOR_VAX', 'BIRTH_DEFECT'], axis=1, inplace=True)"
   ]
  },
  {
   "cell_type": "code",
   "execution_count": 7,
   "metadata": {},
   "outputs": [
    {
     "data": {
      "text/plain": [
       "(34121, 9)"
      ]
     },
     "execution_count": 7,
     "metadata": {},
     "output_type": "execute_result"
    }
   ],
   "source": [
    "df.shape"
   ]
  },
  {
   "cell_type": "code",
   "execution_count": 8,
   "metadata": {},
   "outputs": [
    {
     "name": "stdout",
     "output_type": "stream",
     "text": [
      "<class 'pandas.core.frame.DataFrame'>\n",
      "RangeIndex: 34121 entries, 0 to 34120\n",
      "Data columns (total 9 columns):\n",
      " #   Column        Non-Null Count  Dtype  \n",
      "---  ------        --------------  -----  \n",
      " 0   VAERS_ID      34121 non-null  int64  \n",
      " 1   STATE         28550 non-null  object \n",
      " 2   AGE_YRS       30933 non-null  float64\n",
      " 3   SEX           34121 non-null  object \n",
      " 4   SYMPTOM_TEXT  34119 non-null  object \n",
      " 5   OTHER_MEDS    20239 non-null  object \n",
      " 6   CUR_ILL       16069 non-null  object \n",
      " 7   HISTORY       22375 non-null  object \n",
      " 8   ALLERGIES     18587 non-null  object \n",
      "dtypes: float64(1), int64(1), object(7)\n",
      "memory usage: 2.3+ MB\n"
     ]
    }
   ],
   "source": [
    "df.info()"
   ]
  },
  {
   "cell_type": "code",
   "execution_count": 9,
   "metadata": {},
   "outputs": [
    {
     "data": {
      "text/plain": [
       "VAERS_ID            0\n",
       "STATE            5571\n",
       "AGE_YRS          3188\n",
       "SEX                 0\n",
       "SYMPTOM_TEXT        2\n",
       "OTHER_MEDS      13882\n",
       "CUR_ILL         18052\n",
       "HISTORY         11746\n",
       "ALLERGIES       15534\n",
       "dtype: int64"
      ]
     },
     "execution_count": 9,
     "metadata": {},
     "output_type": "execute_result"
    }
   ],
   "source": [
    "df.isnull().sum()"
   ]
  },
  {
   "cell_type": "code",
   "execution_count": 10,
   "metadata": {},
   "outputs": [],
   "source": [
    "df['STATE'].fillna(df['STATE'].mode()[0], inplace=True)\n",
    "df['AGE_YRS'].fillna(df['AGE_YRS'].mode()[0], inplace=True)"
   ]
  },
  {
   "cell_type": "code",
   "execution_count": 11,
   "metadata": {},
   "outputs": [],
   "source": [
    "df['SYMPTOM_TEXT'].fillna(df['SYMPTOM_TEXT'].mode()[0], inplace=True)"
   ]
  },
  {
   "cell_type": "code",
   "execution_count": 12,
   "metadata": {},
   "outputs": [],
   "source": [
    "df['CUR_ILL'].value_counts() ##illness at the time of vaccination\n",
    "\n",
    "## filling the missing values with \"no illness at the time of vaccination\"\n",
    "df['CUR_ILL'].fillna(\"No illness at the time of vaccination\", inplace=True)"
   ]
  },
  {
   "cell_type": "code",
   "execution_count": 13,
   "metadata": {},
   "outputs": [],
   "source": [
    "df['OTHER_MEDS'].fillna(\"No medication\", inplace=True)  ## filling the missing values with \"no medication\""
   ]
  },
  {
   "cell_type": "code",
   "execution_count": 14,
   "metadata": {},
   "outputs": [],
   "source": [
    "df['HISTORY'] = df['HISTORY'].astype(str) + df['ALLERGIES'].astype(str)"
   ]
  },
  {
   "cell_type": "code",
   "execution_count": 15,
   "metadata": {},
   "outputs": [],
   "source": [
    "df.drop('ALLERGIES', axis=1, inplace=True)"
   ]
  },
  {
   "cell_type": "code",
   "execution_count": 16,
   "metadata": {},
   "outputs": [],
   "source": [
    "##changing Na, anNa, none to None in all the columns\n",
    "\n",
    "df.replace('Na', 'None', inplace=True)\n",
    "df.replace('anNa', 'None', inplace=True)\n",
    "df.replace('none', 'None', inplace=True)\n",
    "df.replace('NONE', 'None', inplace=True)"
   ]
  },
  {
   "cell_type": "code",
   "execution_count": 17,
   "metadata": {},
   "outputs": [],
   "source": [
    "## replace nannan, NoneNone, nonenone to No history and allergies in history column\n",
    "\n",
    "df['HISTORY'].replace(['nannan','NoneNone', 'nonenone', 'nanNa', 'NanNa'], 'No history and allergies', inplace=True)"
   ]
  },
  {
   "cell_type": "code",
   "execution_count": 18,
   "metadata": {},
   "outputs": [],
   "source": [
    "df['CUR_ILL'] = df['CUR_ILL'].apply(lambda x: 'None' if x in df['CUR_ILL'].value_counts()[0:16].index else x)"
   ]
  },
  {
   "cell_type": "code",
   "execution_count": 19,
   "metadata": {},
   "outputs": [],
   "source": [
    "df.drop([], axis=1, inplace=True)"
   ]
  },
  {
   "cell_type": "code",
   "execution_count": 20,
   "metadata": {},
   "outputs": [
    {
     "data": {
      "text/plain": [
       "VAERS_ID        0\n",
       "STATE           0\n",
       "AGE_YRS         0\n",
       "SEX             0\n",
       "SYMPTOM_TEXT    0\n",
       "OTHER_MEDS      0\n",
       "CUR_ILL         0\n",
       "HISTORY         0\n",
       "dtype: int64"
      ]
     },
     "execution_count": 20,
     "metadata": {},
     "output_type": "execute_result"
    }
   ],
   "source": [
    "## counting NAN values in each column\n",
    "\n",
    "df.isnull().sum()"
   ]
  },
  {
   "cell_type": "code",
   "execution_count": 21,
   "metadata": {},
   "outputs": [
    {
     "data": {
      "text/html": [
       "<div>\n",
       "<style scoped>\n",
       "    .dataframe tbody tr th:only-of-type {\n",
       "        vertical-align: middle;\n",
       "    }\n",
       "\n",
       "    .dataframe tbody tr th {\n",
       "        vertical-align: top;\n",
       "    }\n",
       "\n",
       "    .dataframe thead th {\n",
       "        text-align: right;\n",
       "    }\n",
       "</style>\n",
       "<table border=\"1\" class=\"dataframe\">\n",
       "  <thead>\n",
       "    <tr style=\"text-align: right;\">\n",
       "      <th></th>\n",
       "      <th>VAERS_ID</th>\n",
       "      <th>STATE</th>\n",
       "      <th>AGE_YRS</th>\n",
       "      <th>SEX</th>\n",
       "      <th>SYMPTOM_TEXT</th>\n",
       "      <th>OTHER_MEDS</th>\n",
       "      <th>CUR_ILL</th>\n",
       "      <th>HISTORY</th>\n",
       "    </tr>\n",
       "  </thead>\n",
       "  <tbody>\n",
       "    <tr>\n",
       "      <th>0</th>\n",
       "      <td>916600</td>\n",
       "      <td>TX</td>\n",
       "      <td>33.0</td>\n",
       "      <td>F</td>\n",
       "      <td>Right side of epiglottis swelled up and hinder...</td>\n",
       "      <td>None</td>\n",
       "      <td>None</td>\n",
       "      <td>NonePcn and bee venom</td>\n",
       "    </tr>\n",
       "    <tr>\n",
       "      <th>1</th>\n",
       "      <td>916601</td>\n",
       "      <td>CA</td>\n",
       "      <td>73.0</td>\n",
       "      <td>F</td>\n",
       "      <td>Approximately 30 min post vaccination administ...</td>\n",
       "      <td>Patient residing at nursing facility. See pati...</td>\n",
       "      <td>Patient residing at nursing facility. See pati...</td>\n",
       "      <td>Patient residing at nursing facility. See pati...</td>\n",
       "    </tr>\n",
       "    <tr>\n",
       "      <th>2</th>\n",
       "      <td>916602</td>\n",
       "      <td>WA</td>\n",
       "      <td>23.0</td>\n",
       "      <td>F</td>\n",
       "      <td>About 15 minutes after receiving the vaccine, ...</td>\n",
       "      <td>None</td>\n",
       "      <td>None</td>\n",
       "      <td>NoneShellfish</td>\n",
       "    </tr>\n",
       "    <tr>\n",
       "      <th>3</th>\n",
       "      <td>916603</td>\n",
       "      <td>WA</td>\n",
       "      <td>58.0</td>\n",
       "      <td>F</td>\n",
       "      <td>extreme fatigue, dizziness,. could not lift my...</td>\n",
       "      <td>None</td>\n",
       "      <td>kidney infection</td>\n",
       "      <td>diverticulitis, mitral valve prolapse, osteoar...</td>\n",
       "    </tr>\n",
       "    <tr>\n",
       "      <th>4</th>\n",
       "      <td>916604</td>\n",
       "      <td>TX</td>\n",
       "      <td>47.0</td>\n",
       "      <td>F</td>\n",
       "      <td>Injection site swelling, redness, warm to the ...</td>\n",
       "      <td>None</td>\n",
       "      <td>None</td>\n",
       "      <td>No history and allergies</td>\n",
       "    </tr>\n",
       "  </tbody>\n",
       "</table>\n",
       "</div>"
      ],
      "text/plain": [
       "   VAERS_ID STATE  AGE_YRS SEX  \\\n",
       "0    916600    TX     33.0   F   \n",
       "1    916601    CA     73.0   F   \n",
       "2    916602    WA     23.0   F   \n",
       "3    916603    WA     58.0   F   \n",
       "4    916604    TX     47.0   F   \n",
       "\n",
       "                                        SYMPTOM_TEXT  \\\n",
       "0  Right side of epiglottis swelled up and hinder...   \n",
       "1  Approximately 30 min post vaccination administ...   \n",
       "2  About 15 minutes after receiving the vaccine, ...   \n",
       "3  extreme fatigue, dizziness,. could not lift my...   \n",
       "4  Injection site swelling, redness, warm to the ...   \n",
       "\n",
       "                                          OTHER_MEDS  \\\n",
       "0                                               None   \n",
       "1  Patient residing at nursing facility. See pati...   \n",
       "2                                               None   \n",
       "3                                               None   \n",
       "4                                               None   \n",
       "\n",
       "                                             CUR_ILL  \\\n",
       "0                                               None   \n",
       "1  Patient residing at nursing facility. See pati...   \n",
       "2                                               None   \n",
       "3                                   kidney infection   \n",
       "4                                               None   \n",
       "\n",
       "                                             HISTORY  \n",
       "0                              NonePcn and bee venom  \n",
       "1  Patient residing at nursing facility. See pati...  \n",
       "2                                      NoneShellfish  \n",
       "3  diverticulitis, mitral valve prolapse, osteoar...  \n",
       "4                           No history and allergies  "
      ]
     },
     "execution_count": 21,
     "metadata": {},
     "output_type": "execute_result"
    }
   ],
   "source": [
    "df.head()"
   ]
  },
  {
   "cell_type": "code",
   "execution_count": 22,
   "metadata": {},
   "outputs": [],
   "source": [
    "df1 = pd.read_csv('/Users/rishabhsharma/Documents/GitHub/Covid-19-application/data/2021VAERSVAX.csv')"
   ]
  },
  {
   "cell_type": "code",
   "execution_count": 23,
   "metadata": {},
   "outputs": [
    {
     "data": {
      "text/html": [
       "<div>\n",
       "<style scoped>\n",
       "    .dataframe tbody tr th:only-of-type {\n",
       "        vertical-align: middle;\n",
       "    }\n",
       "\n",
       "    .dataframe tbody tr th {\n",
       "        vertical-align: top;\n",
       "    }\n",
       "\n",
       "    .dataframe thead th {\n",
       "        text-align: right;\n",
       "    }\n",
       "</style>\n",
       "<table border=\"1\" class=\"dataframe\">\n",
       "  <thead>\n",
       "    <tr style=\"text-align: right;\">\n",
       "      <th></th>\n",
       "      <th>VAERS_ID</th>\n",
       "      <th>VAX_TYPE</th>\n",
       "      <th>VAX_MANU</th>\n",
       "      <th>VAX_LOT</th>\n",
       "      <th>VAX_DOSE_SERIES</th>\n",
       "      <th>VAX_ROUTE</th>\n",
       "      <th>VAX_SITE</th>\n",
       "      <th>VAX_NAME</th>\n",
       "    </tr>\n",
       "  </thead>\n",
       "  <tbody>\n",
       "    <tr>\n",
       "      <th>0</th>\n",
       "      <td>916600</td>\n",
       "      <td>COVID19</td>\n",
       "      <td>MODERNA</td>\n",
       "      <td>037K20A</td>\n",
       "      <td>1</td>\n",
       "      <td>IM</td>\n",
       "      <td>LA</td>\n",
       "      <td>COVID19 (COVID19 (MODERNA))</td>\n",
       "    </tr>\n",
       "    <tr>\n",
       "      <th>1</th>\n",
       "      <td>916601</td>\n",
       "      <td>COVID19</td>\n",
       "      <td>MODERNA</td>\n",
       "      <td>025L20A</td>\n",
       "      <td>1</td>\n",
       "      <td>IM</td>\n",
       "      <td>RA</td>\n",
       "      <td>COVID19 (COVID19 (MODERNA))</td>\n",
       "    </tr>\n",
       "    <tr>\n",
       "      <th>2</th>\n",
       "      <td>916602</td>\n",
       "      <td>COVID19</td>\n",
       "      <td>PFIZER\\BIONTECH</td>\n",
       "      <td>EL1284</td>\n",
       "      <td>1</td>\n",
       "      <td>IM</td>\n",
       "      <td>LA</td>\n",
       "      <td>COVID19 (COVID19 (PFIZER-BIONTECH))</td>\n",
       "    </tr>\n",
       "    <tr>\n",
       "      <th>3</th>\n",
       "      <td>916603</td>\n",
       "      <td>COVID19</td>\n",
       "      <td>MODERNA</td>\n",
       "      <td>unknown</td>\n",
       "      <td>UNK</td>\n",
       "      <td>NaN</td>\n",
       "      <td>NaN</td>\n",
       "      <td>COVID19 (COVID19 (MODERNA))</td>\n",
       "    </tr>\n",
       "    <tr>\n",
       "      <th>4</th>\n",
       "      <td>916604</td>\n",
       "      <td>COVID19</td>\n",
       "      <td>MODERNA</td>\n",
       "      <td>NaN</td>\n",
       "      <td>1</td>\n",
       "      <td>IM</td>\n",
       "      <td>LA</td>\n",
       "      <td>COVID19 (COVID19 (MODERNA))</td>\n",
       "    </tr>\n",
       "  </tbody>\n",
       "</table>\n",
       "</div>"
      ],
      "text/plain": [
       "   VAERS_ID VAX_TYPE         VAX_MANU  VAX_LOT VAX_DOSE_SERIES VAX_ROUTE  \\\n",
       "0    916600  COVID19          MODERNA  037K20A               1        IM   \n",
       "1    916601  COVID19          MODERNA  025L20A               1        IM   \n",
       "2    916602  COVID19  PFIZER\\BIONTECH   EL1284               1        IM   \n",
       "3    916603  COVID19          MODERNA  unknown             UNK       NaN   \n",
       "4    916604  COVID19          MODERNA      NaN               1        IM   \n",
       "\n",
       "  VAX_SITE                             VAX_NAME  \n",
       "0       LA          COVID19 (COVID19 (MODERNA))  \n",
       "1       RA          COVID19 (COVID19 (MODERNA))  \n",
       "2       LA  COVID19 (COVID19 (PFIZER-BIONTECH))  \n",
       "3      NaN          COVID19 (COVID19 (MODERNA))  \n",
       "4       LA          COVID19 (COVID19 (MODERNA))  "
      ]
     },
     "execution_count": 23,
     "metadata": {},
     "output_type": "execute_result"
    }
   ],
   "source": [
    "df1.head()"
   ]
  },
  {
   "cell_type": "code",
   "execution_count": 24,
   "metadata": {},
   "outputs": [
    {
     "data": {
      "text/plain": [
       "VAERS_ID               0\n",
       "VAX_TYPE               0\n",
       "VAX_MANU               0\n",
       "VAX_LOT            11117\n",
       "VAX_DOSE_SERIES       62\n",
       "VAX_ROUTE           8401\n",
       "VAX_SITE            7943\n",
       "VAX_NAME               0\n",
       "dtype: int64"
      ]
     },
     "execution_count": 24,
     "metadata": {},
     "output_type": "execute_result"
    }
   ],
   "source": [
    "df1.isnull().sum()"
   ]
  },
  {
   "cell_type": "code",
   "execution_count": 25,
   "metadata": {},
   "outputs": [
    {
     "data": {
      "text/plain": [
       "Index(['VAERS_ID', 'VAX_TYPE', 'VAX_MANU', 'VAX_LOT', 'VAX_DOSE_SERIES',\n",
       "       'VAX_ROUTE', 'VAX_SITE', 'VAX_NAME'],\n",
       "      dtype='object')"
      ]
     },
     "execution_count": 25,
     "metadata": {},
     "output_type": "execute_result"
    }
   ],
   "source": [
    "df1.columns"
   ]
  },
  {
   "cell_type": "code",
   "execution_count": 26,
   "metadata": {},
   "outputs": [],
   "source": [
    "df1.drop(['VAX_TYPE', 'VAX_MANU', 'VAX_LOT', 'VAX_DOSE_SERIES',\n",
    "       'VAX_ROUTE', 'VAX_SITE'], axis = 1, inplace = True)"
   ]
  },
  {
   "cell_type": "code",
   "execution_count": 27,
   "metadata": {},
   "outputs": [
    {
     "data": {
      "text/html": [
       "<div>\n",
       "<style scoped>\n",
       "    .dataframe tbody tr th:only-of-type {\n",
       "        vertical-align: middle;\n",
       "    }\n",
       "\n",
       "    .dataframe tbody tr th {\n",
       "        vertical-align: top;\n",
       "    }\n",
       "\n",
       "    .dataframe thead th {\n",
       "        text-align: right;\n",
       "    }\n",
       "</style>\n",
       "<table border=\"1\" class=\"dataframe\">\n",
       "  <thead>\n",
       "    <tr style=\"text-align: right;\">\n",
       "      <th></th>\n",
       "      <th>VAERS_ID</th>\n",
       "      <th>STATE</th>\n",
       "      <th>AGE_YRS</th>\n",
       "      <th>SEX</th>\n",
       "      <th>SYMPTOM_TEXT</th>\n",
       "      <th>OTHER_MEDS</th>\n",
       "      <th>CUR_ILL</th>\n",
       "      <th>HISTORY</th>\n",
       "    </tr>\n",
       "  </thead>\n",
       "  <tbody>\n",
       "    <tr>\n",
       "      <th>0</th>\n",
       "      <td>916600</td>\n",
       "      <td>TX</td>\n",
       "      <td>33.0</td>\n",
       "      <td>F</td>\n",
       "      <td>Right side of epiglottis swelled up and hinder...</td>\n",
       "      <td>None</td>\n",
       "      <td>None</td>\n",
       "      <td>NonePcn and bee venom</td>\n",
       "    </tr>\n",
       "    <tr>\n",
       "      <th>1</th>\n",
       "      <td>916601</td>\n",
       "      <td>CA</td>\n",
       "      <td>73.0</td>\n",
       "      <td>F</td>\n",
       "      <td>Approximately 30 min post vaccination administ...</td>\n",
       "      <td>Patient residing at nursing facility. See pati...</td>\n",
       "      <td>Patient residing at nursing facility. See pati...</td>\n",
       "      <td>Patient residing at nursing facility. See pati...</td>\n",
       "    </tr>\n",
       "    <tr>\n",
       "      <th>2</th>\n",
       "      <td>916602</td>\n",
       "      <td>WA</td>\n",
       "      <td>23.0</td>\n",
       "      <td>F</td>\n",
       "      <td>About 15 minutes after receiving the vaccine, ...</td>\n",
       "      <td>None</td>\n",
       "      <td>None</td>\n",
       "      <td>NoneShellfish</td>\n",
       "    </tr>\n",
       "    <tr>\n",
       "      <th>3</th>\n",
       "      <td>916603</td>\n",
       "      <td>WA</td>\n",
       "      <td>58.0</td>\n",
       "      <td>F</td>\n",
       "      <td>extreme fatigue, dizziness,. could not lift my...</td>\n",
       "      <td>None</td>\n",
       "      <td>kidney infection</td>\n",
       "      <td>diverticulitis, mitral valve prolapse, osteoar...</td>\n",
       "    </tr>\n",
       "    <tr>\n",
       "      <th>4</th>\n",
       "      <td>916604</td>\n",
       "      <td>TX</td>\n",
       "      <td>47.0</td>\n",
       "      <td>F</td>\n",
       "      <td>Injection site swelling, redness, warm to the ...</td>\n",
       "      <td>None</td>\n",
       "      <td>None</td>\n",
       "      <td>No history and allergies</td>\n",
       "    </tr>\n",
       "  </tbody>\n",
       "</table>\n",
       "</div>"
      ],
      "text/plain": [
       "   VAERS_ID STATE  AGE_YRS SEX  \\\n",
       "0    916600    TX     33.0   F   \n",
       "1    916601    CA     73.0   F   \n",
       "2    916602    WA     23.0   F   \n",
       "3    916603    WA     58.0   F   \n",
       "4    916604    TX     47.0   F   \n",
       "\n",
       "                                        SYMPTOM_TEXT  \\\n",
       "0  Right side of epiglottis swelled up and hinder...   \n",
       "1  Approximately 30 min post vaccination administ...   \n",
       "2  About 15 minutes after receiving the vaccine, ...   \n",
       "3  extreme fatigue, dizziness,. could not lift my...   \n",
       "4  Injection site swelling, redness, warm to the ...   \n",
       "\n",
       "                                          OTHER_MEDS  \\\n",
       "0                                               None   \n",
       "1  Patient residing at nursing facility. See pati...   \n",
       "2                                               None   \n",
       "3                                               None   \n",
       "4                                               None   \n",
       "\n",
       "                                             CUR_ILL  \\\n",
       "0                                               None   \n",
       "1  Patient residing at nursing facility. See pati...   \n",
       "2                                               None   \n",
       "3                                   kidney infection   \n",
       "4                                               None   \n",
       "\n",
       "                                             HISTORY  \n",
       "0                              NonePcn and bee venom  \n",
       "1  Patient residing at nursing facility. See pati...  \n",
       "2                                      NoneShellfish  \n",
       "3  diverticulitis, mitral valve prolapse, osteoar...  \n",
       "4                           No history and allergies  "
      ]
     },
     "execution_count": 27,
     "metadata": {},
     "output_type": "execute_result"
    }
   ],
   "source": [
    "df.head()"
   ]
  },
  {
   "cell_type": "code",
   "execution_count": 28,
   "metadata": {},
   "outputs": [
    {
     "data": {
      "text/html": [
       "<div>\n",
       "<style scoped>\n",
       "    .dataframe tbody tr th:only-of-type {\n",
       "        vertical-align: middle;\n",
       "    }\n",
       "\n",
       "    .dataframe tbody tr th {\n",
       "        vertical-align: top;\n",
       "    }\n",
       "\n",
       "    .dataframe thead th {\n",
       "        text-align: right;\n",
       "    }\n",
       "</style>\n",
       "<table border=\"1\" class=\"dataframe\">\n",
       "  <thead>\n",
       "    <tr style=\"text-align: right;\">\n",
       "      <th></th>\n",
       "      <th>VAERS_ID</th>\n",
       "      <th>VAX_NAME</th>\n",
       "    </tr>\n",
       "  </thead>\n",
       "  <tbody>\n",
       "    <tr>\n",
       "      <th>0</th>\n",
       "      <td>916600</td>\n",
       "      <td>COVID19 (COVID19 (MODERNA))</td>\n",
       "    </tr>\n",
       "    <tr>\n",
       "      <th>1</th>\n",
       "      <td>916601</td>\n",
       "      <td>COVID19 (COVID19 (MODERNA))</td>\n",
       "    </tr>\n",
       "    <tr>\n",
       "      <th>2</th>\n",
       "      <td>916602</td>\n",
       "      <td>COVID19 (COVID19 (PFIZER-BIONTECH))</td>\n",
       "    </tr>\n",
       "    <tr>\n",
       "      <th>3</th>\n",
       "      <td>916603</td>\n",
       "      <td>COVID19 (COVID19 (MODERNA))</td>\n",
       "    </tr>\n",
       "    <tr>\n",
       "      <th>4</th>\n",
       "      <td>916604</td>\n",
       "      <td>COVID19 (COVID19 (MODERNA))</td>\n",
       "    </tr>\n",
       "  </tbody>\n",
       "</table>\n",
       "</div>"
      ],
      "text/plain": [
       "   VAERS_ID                             VAX_NAME\n",
       "0    916600          COVID19 (COVID19 (MODERNA))\n",
       "1    916601          COVID19 (COVID19 (MODERNA))\n",
       "2    916602  COVID19 (COVID19 (PFIZER-BIONTECH))\n",
       "3    916603          COVID19 (COVID19 (MODERNA))\n",
       "4    916604          COVID19 (COVID19 (MODERNA))"
      ]
     },
     "execution_count": 28,
     "metadata": {},
     "output_type": "execute_result"
    }
   ],
   "source": [
    "df1.head()"
   ]
  },
  {
   "cell_type": "code",
   "execution_count": 29,
   "metadata": {},
   "outputs": [],
   "source": [
    "##merge the two dataframes on VAERS_ID\n",
    "\n",
    "df = pd.merge(df, df1, on = 'VAERS_ID', how = 'inner')"
   ]
  },
  {
   "cell_type": "code",
   "execution_count": 30,
   "metadata": {},
   "outputs": [
    {
     "data": {
      "text/plain": [
       "(34630, 9)"
      ]
     },
     "execution_count": 30,
     "metadata": {},
     "output_type": "execute_result"
    }
   ],
   "source": [
    "df.shape"
   ]
  },
  {
   "cell_type": "code",
   "execution_count": 31,
   "metadata": {},
   "outputs": [
    {
     "data": {
      "text/plain": [
       "VAERS_ID        False\n",
       "STATE           False\n",
       "AGE_YRS         False\n",
       "SEX             False\n",
       "SYMPTOM_TEXT    False\n",
       "OTHER_MEDS      False\n",
       "CUR_ILL         False\n",
       "HISTORY         False\n",
       "VAX_NAME        False\n",
       "dtype: bool"
      ]
     },
     "execution_count": 31,
     "metadata": {},
     "output_type": "execute_result"
    }
   ],
   "source": [
    "df.isnull().any()"
   ]
  },
  {
   "cell_type": "code",
   "execution_count": 32,
   "metadata": {},
   "outputs": [],
   "source": [
    "df.drop(['VAERS_ID'], axis = 1, inplace = True)"
   ]
  },
  {
   "cell_type": "code",
   "execution_count": 33,
   "metadata": {},
   "outputs": [
    {
     "data": {
      "text/html": [
       "<div>\n",
       "<style scoped>\n",
       "    .dataframe tbody tr th:only-of-type {\n",
       "        vertical-align: middle;\n",
       "    }\n",
       "\n",
       "    .dataframe tbody tr th {\n",
       "        vertical-align: top;\n",
       "    }\n",
       "\n",
       "    .dataframe thead th {\n",
       "        text-align: right;\n",
       "    }\n",
       "</style>\n",
       "<table border=\"1\" class=\"dataframe\">\n",
       "  <thead>\n",
       "    <tr style=\"text-align: right;\">\n",
       "      <th></th>\n",
       "      <th>STATE</th>\n",
       "      <th>AGE_YRS</th>\n",
       "      <th>SEX</th>\n",
       "      <th>SYMPTOM_TEXT</th>\n",
       "      <th>OTHER_MEDS</th>\n",
       "      <th>CUR_ILL</th>\n",
       "      <th>HISTORY</th>\n",
       "      <th>VAX_NAME</th>\n",
       "    </tr>\n",
       "  </thead>\n",
       "  <tbody>\n",
       "    <tr>\n",
       "      <th>0</th>\n",
       "      <td>TX</td>\n",
       "      <td>33.0</td>\n",
       "      <td>F</td>\n",
       "      <td>Right side of epiglottis swelled up and hinder...</td>\n",
       "      <td>None</td>\n",
       "      <td>None</td>\n",
       "      <td>NonePcn and bee venom</td>\n",
       "      <td>COVID19 (COVID19 (MODERNA))</td>\n",
       "    </tr>\n",
       "    <tr>\n",
       "      <th>1</th>\n",
       "      <td>CA</td>\n",
       "      <td>73.0</td>\n",
       "      <td>F</td>\n",
       "      <td>Approximately 30 min post vaccination administ...</td>\n",
       "      <td>Patient residing at nursing facility. See pati...</td>\n",
       "      <td>Patient residing at nursing facility. See pati...</td>\n",
       "      <td>Patient residing at nursing facility. See pati...</td>\n",
       "      <td>COVID19 (COVID19 (MODERNA))</td>\n",
       "    </tr>\n",
       "    <tr>\n",
       "      <th>2</th>\n",
       "      <td>WA</td>\n",
       "      <td>23.0</td>\n",
       "      <td>F</td>\n",
       "      <td>About 15 minutes after receiving the vaccine, ...</td>\n",
       "      <td>None</td>\n",
       "      <td>None</td>\n",
       "      <td>NoneShellfish</td>\n",
       "      <td>COVID19 (COVID19 (PFIZER-BIONTECH))</td>\n",
       "    </tr>\n",
       "    <tr>\n",
       "      <th>3</th>\n",
       "      <td>WA</td>\n",
       "      <td>58.0</td>\n",
       "      <td>F</td>\n",
       "      <td>extreme fatigue, dizziness,. could not lift my...</td>\n",
       "      <td>None</td>\n",
       "      <td>kidney infection</td>\n",
       "      <td>diverticulitis, mitral valve prolapse, osteoar...</td>\n",
       "      <td>COVID19 (COVID19 (MODERNA))</td>\n",
       "    </tr>\n",
       "    <tr>\n",
       "      <th>4</th>\n",
       "      <td>TX</td>\n",
       "      <td>47.0</td>\n",
       "      <td>F</td>\n",
       "      <td>Injection site swelling, redness, warm to the ...</td>\n",
       "      <td>None</td>\n",
       "      <td>None</td>\n",
       "      <td>No history and allergies</td>\n",
       "      <td>COVID19 (COVID19 (MODERNA))</td>\n",
       "    </tr>\n",
       "  </tbody>\n",
       "</table>\n",
       "</div>"
      ],
      "text/plain": [
       "  STATE  AGE_YRS SEX                                       SYMPTOM_TEXT  \\\n",
       "0    TX     33.0   F  Right side of epiglottis swelled up and hinder...   \n",
       "1    CA     73.0   F  Approximately 30 min post vaccination administ...   \n",
       "2    WA     23.0   F  About 15 minutes after receiving the vaccine, ...   \n",
       "3    WA     58.0   F  extreme fatigue, dizziness,. could not lift my...   \n",
       "4    TX     47.0   F  Injection site swelling, redness, warm to the ...   \n",
       "\n",
       "                                          OTHER_MEDS  \\\n",
       "0                                               None   \n",
       "1  Patient residing at nursing facility. See pati...   \n",
       "2                                               None   \n",
       "3                                               None   \n",
       "4                                               None   \n",
       "\n",
       "                                             CUR_ILL  \\\n",
       "0                                               None   \n",
       "1  Patient residing at nursing facility. See pati...   \n",
       "2                                               None   \n",
       "3                                   kidney infection   \n",
       "4                                               None   \n",
       "\n",
       "                                             HISTORY  \\\n",
       "0                              NonePcn and bee venom   \n",
       "1  Patient residing at nursing facility. See pati...   \n",
       "2                                      NoneShellfish   \n",
       "3  diverticulitis, mitral valve prolapse, osteoar...   \n",
       "4                           No history and allergies   \n",
       "\n",
       "                              VAX_NAME  \n",
       "0          COVID19 (COVID19 (MODERNA))  \n",
       "1          COVID19 (COVID19 (MODERNA))  \n",
       "2  COVID19 (COVID19 (PFIZER-BIONTECH))  \n",
       "3          COVID19 (COVID19 (MODERNA))  \n",
       "4          COVID19 (COVID19 (MODERNA))  "
      ]
     },
     "execution_count": 33,
     "metadata": {},
     "output_type": "execute_result"
    }
   ],
   "source": [
    "df.head()"
   ]
  },
  {
   "cell_type": "code",
   "execution_count": 34,
   "metadata": {},
   "outputs": [],
   "source": [
    "df['HISTORY'] = df['HISTORY'].apply(lambda x: x[4:] if x.startswith('None') else x)"
   ]
  },
  {
   "cell_type": "code",
   "execution_count": 35,
   "metadata": {},
   "outputs": [
    {
     "data": {
      "text/html": [
       "<div>\n",
       "<style scoped>\n",
       "    .dataframe tbody tr th:only-of-type {\n",
       "        vertical-align: middle;\n",
       "    }\n",
       "\n",
       "    .dataframe tbody tr th {\n",
       "        vertical-align: top;\n",
       "    }\n",
       "\n",
       "    .dataframe thead th {\n",
       "        text-align: right;\n",
       "    }\n",
       "</style>\n",
       "<table border=\"1\" class=\"dataframe\">\n",
       "  <thead>\n",
       "    <tr style=\"text-align: right;\">\n",
       "      <th></th>\n",
       "      <th>STATE</th>\n",
       "      <th>AGE_YRS</th>\n",
       "      <th>SEX</th>\n",
       "      <th>SYMPTOM_TEXT</th>\n",
       "      <th>OTHER_MEDS</th>\n",
       "      <th>CUR_ILL</th>\n",
       "      <th>HISTORY</th>\n",
       "      <th>VAX_NAME</th>\n",
       "    </tr>\n",
       "  </thead>\n",
       "  <tbody>\n",
       "    <tr>\n",
       "      <th>0</th>\n",
       "      <td>TX</td>\n",
       "      <td>33.0</td>\n",
       "      <td>F</td>\n",
       "      <td>Right side of epiglottis swelled up and hinder...</td>\n",
       "      <td>None</td>\n",
       "      <td>None</td>\n",
       "      <td>Pcn and bee venom</td>\n",
       "      <td>COVID19 (COVID19 (MODERNA))</td>\n",
       "    </tr>\n",
       "    <tr>\n",
       "      <th>1</th>\n",
       "      <td>CA</td>\n",
       "      <td>73.0</td>\n",
       "      <td>F</td>\n",
       "      <td>Approximately 30 min post vaccination administ...</td>\n",
       "      <td>Patient residing at nursing facility. See pati...</td>\n",
       "      <td>Patient residing at nursing facility. See pati...</td>\n",
       "      <td>Patient residing at nursing facility. See pati...</td>\n",
       "      <td>COVID19 (COVID19 (MODERNA))</td>\n",
       "    </tr>\n",
       "    <tr>\n",
       "      <th>2</th>\n",
       "      <td>WA</td>\n",
       "      <td>23.0</td>\n",
       "      <td>F</td>\n",
       "      <td>About 15 minutes after receiving the vaccine, ...</td>\n",
       "      <td>None</td>\n",
       "      <td>None</td>\n",
       "      <td>Shellfish</td>\n",
       "      <td>COVID19 (COVID19 (PFIZER-BIONTECH))</td>\n",
       "    </tr>\n",
       "    <tr>\n",
       "      <th>3</th>\n",
       "      <td>WA</td>\n",
       "      <td>58.0</td>\n",
       "      <td>F</td>\n",
       "      <td>extreme fatigue, dizziness,. could not lift my...</td>\n",
       "      <td>None</td>\n",
       "      <td>kidney infection</td>\n",
       "      <td>diverticulitis, mitral valve prolapse, osteoar...</td>\n",
       "      <td>COVID19 (COVID19 (MODERNA))</td>\n",
       "    </tr>\n",
       "    <tr>\n",
       "      <th>4</th>\n",
       "      <td>TX</td>\n",
       "      <td>47.0</td>\n",
       "      <td>F</td>\n",
       "      <td>Injection site swelling, redness, warm to the ...</td>\n",
       "      <td>None</td>\n",
       "      <td>None</td>\n",
       "      <td>No history and allergies</td>\n",
       "      <td>COVID19 (COVID19 (MODERNA))</td>\n",
       "    </tr>\n",
       "  </tbody>\n",
       "</table>\n",
       "</div>"
      ],
      "text/plain": [
       "  STATE  AGE_YRS SEX                                       SYMPTOM_TEXT  \\\n",
       "0    TX     33.0   F  Right side of epiglottis swelled up and hinder...   \n",
       "1    CA     73.0   F  Approximately 30 min post vaccination administ...   \n",
       "2    WA     23.0   F  About 15 minutes after receiving the vaccine, ...   \n",
       "3    WA     58.0   F  extreme fatigue, dizziness,. could not lift my...   \n",
       "4    TX     47.0   F  Injection site swelling, redness, warm to the ...   \n",
       "\n",
       "                                          OTHER_MEDS  \\\n",
       "0                                               None   \n",
       "1  Patient residing at nursing facility. See pati...   \n",
       "2                                               None   \n",
       "3                                               None   \n",
       "4                                               None   \n",
       "\n",
       "                                             CUR_ILL  \\\n",
       "0                                               None   \n",
       "1  Patient residing at nursing facility. See pati...   \n",
       "2                                               None   \n",
       "3                                   kidney infection   \n",
       "4                                               None   \n",
       "\n",
       "                                             HISTORY  \\\n",
       "0                                  Pcn and bee venom   \n",
       "1  Patient residing at nursing facility. See pati...   \n",
       "2                                          Shellfish   \n",
       "3  diverticulitis, mitral valve prolapse, osteoar...   \n",
       "4                           No history and allergies   \n",
       "\n",
       "                              VAX_NAME  \n",
       "0          COVID19 (COVID19 (MODERNA))  \n",
       "1          COVID19 (COVID19 (MODERNA))  \n",
       "2  COVID19 (COVID19 (PFIZER-BIONTECH))  \n",
       "3          COVID19 (COVID19 (MODERNA))  \n",
       "4          COVID19 (COVID19 (MODERNA))  "
      ]
     },
     "execution_count": 35,
     "metadata": {},
     "output_type": "execute_result"
    }
   ],
   "source": [
    "df.head()"
   ]
  },
  {
   "cell_type": "code",
   "execution_count": 36,
   "metadata": {},
   "outputs": [
    {
     "data": {
      "text/plain": [
       "COVID19 (COVID19 (PFIZER-BIONTECH))            16534\n",
       "COVID19 (COVID19 (MODERNA))                    16513\n",
       "COVID19 (COVID19 (JANSSEN))                     1109\n",
       "VACCINE NOT SPECIFIED (NO BRAND NAME)             99\n",
       "ZOSTER LIVE (ZOSTAVAX)                            57\n",
       "ZOSTER (SHINGRIX)                                 54\n",
       "INFLUENZA (SEASONAL) (NO BRAND NAME)              47\n",
       "PNEUMO (PNEUMOVAX)                                23\n",
       "COVID19 (COVID19 (UNKNOWN))                       18\n",
       "INFLUENZA (SEASONAL) (FLUZONE QUADRIVALENT)       14\n",
       "Name: VAX_NAME, dtype: int64"
      ]
     },
     "execution_count": 36,
     "metadata": {},
     "output_type": "execute_result"
    }
   ],
   "source": [
    "df['VAX_NAME'].value_counts()[0:10]"
   ]
  },
  {
   "cell_type": "code",
   "execution_count": 37,
   "metadata": {},
   "outputs": [
    {
     "data": {
      "text/plain": [
       "<AxesSubplot: >"
      ]
     },
     "execution_count": 37,
     "metadata": {},
     "output_type": "execute_result"
    },
    {
     "data": {
      "image/png": "[encoded data removed]",
      "text/plain": [
       "<Figure size 1000x500 with 1 Axes>"
      ]
     },
     "metadata": {},
     "output_type": "display_data"
    }
   ],
   "source": [
    "##plot the top 10 vaccines using barplot\n",
    "\n",
    "plt.figure(figsize=(10,5))\n",
    "sns.barplot(x = df['VAX_NAME'].value_counts()[0:10].index, y = df['VAX_NAME'].value_counts()[0:10].values)"
   ]
  },
  {
   "cell_type": "code",
   "execution_count": 38,
   "metadata": {},
   "outputs": [],
   "source": [
    "## if VAX_NAME is not in first 2 vaccines then delete the row\n",
    "\n",
    "df = df[df['VAX_NAME'].isin(df['VAX_NAME'].value_counts()[0:2].index)]"
   ]
  },
  {
   "cell_type": "code",
   "execution_count": 39,
   "metadata": {},
   "outputs": [
    {
     "data": {
      "text/plain": [
       "<AxesSubplot: >"
      ]
     },
     "execution_count": 39,
     "metadata": {},
     "output_type": "execute_result"
    },
    {
     "data": {
      "image/png": "[encoded data removed]",
      "text/plain": [
       "<Figure size 640x480 with 1 Axes>"
      ]
     },
     "metadata": {},
     "output_type": "display_data"
    }
   ],
   "source": [
    "sns.barplot(x = df['VAX_NAME'].value_counts()[0:10].index, y = df['VAX_NAME'].value_counts()[0:10].values)"
   ]
  },
  {
   "cell_type": "code",
   "execution_count": 47,
   "metadata": {},
   "outputs": [
    {
     "data": {
      "text/html": [
       "<div>\n",
       "<style scoped>\n",
       "    .dataframe tbody tr th:only-of-type {\n",
       "        vertical-align: middle;\n",
       "    }\n",
       "\n",
       "    .dataframe tbody tr th {\n",
       "        vertical-align: top;\n",
       "    }\n",
       "\n",
       "    .dataframe thead th {\n",
       "        text-align: right;\n",
       "    }\n",
       "</style>\n",
       "<table border=\"1\" class=\"dataframe\">\n",
       "  <thead>\n",
       "    <tr style=\"text-align: right;\">\n",
       "      <th></th>\n",
       "      <th>STATE</th>\n",
       "      <th>AGE_YRS</th>\n",
       "      <th>SEX</th>\n",
       "      <th>SYMPTOM_TEXT</th>\n",
       "      <th>OTHER_MEDS</th>\n",
       "      <th>CUR_ILL</th>\n",
       "      <th>HISTORY</th>\n",
       "      <th>VAX_NAME</th>\n",
       "    </tr>\n",
       "  </thead>\n",
       "  <tbody>\n",
       "    <tr>\n",
       "      <th>0</th>\n",
       "      <td>TX</td>\n",
       "      <td>33.0</td>\n",
       "      <td>F</td>\n",
       "      <td>right side epiglottis swelled hinder swallowin...</td>\n",
       "      <td>none</td>\n",
       "      <td>none</td>\n",
       "      <td>pcn bee venom</td>\n",
       "      <td>COVID19 (COVID19 (MODERNA))</td>\n",
       "    </tr>\n",
       "    <tr>\n",
       "      <th>1</th>\n",
       "      <td>CA</td>\n",
       "      <td>73.0</td>\n",
       "      <td>F</td>\n",
       "      <td>approximately 30 min post vaccination administ...</td>\n",
       "      <td>patient residing nursing facility see patients...</td>\n",
       "      <td>patient residing nursing facility see patients...</td>\n",
       "      <td>patient residing nursing facility see patients...</td>\n",
       "      <td>COVID19 (COVID19 (MODERNA))</td>\n",
       "    </tr>\n",
       "    <tr>\n",
       "      <th>2</th>\n",
       "      <td>WA</td>\n",
       "      <td>23.0</td>\n",
       "      <td>F</td>\n",
       "      <td>15 minutes receiving vaccine patient complaine...</td>\n",
       "      <td>none</td>\n",
       "      <td>none</td>\n",
       "      <td>shellfish</td>\n",
       "      <td>COVID19 (COVID19 (PFIZER-BIONTECH))</td>\n",
       "    </tr>\n",
       "    <tr>\n",
       "      <th>3</th>\n",
       "      <td>WA</td>\n",
       "      <td>58.0</td>\n",
       "      <td>F</td>\n",
       "      <td>extreme fatigue dizziness could lift left arm ...</td>\n",
       "      <td>none</td>\n",
       "      <td>kidney infection</td>\n",
       "      <td>diverticulitis mitral valve prolapse osteoarth...</td>\n",
       "      <td>COVID19 (COVID19 (MODERNA))</td>\n",
       "    </tr>\n",
       "    <tr>\n",
       "      <th>4</th>\n",
       "      <td>TX</td>\n",
       "      <td>47.0</td>\n",
       "      <td>F</td>\n",
       "      <td>injection site swelling redness warm touch itchy</td>\n",
       "      <td>none</td>\n",
       "      <td>none</td>\n",
       "      <td>history allergies</td>\n",
       "      <td>COVID19 (COVID19 (MODERNA))</td>\n",
       "    </tr>\n",
       "  </tbody>\n",
       "</table>\n",
       "</div>"
      ],
      "text/plain": [
       "  STATE  AGE_YRS SEX                                       SYMPTOM_TEXT  \\\n",
       "0    TX     33.0   F  right side epiglottis swelled hinder swallowin...   \n",
       "1    CA     73.0   F  approximately 30 min post vaccination administ...   \n",
       "2    WA     23.0   F  15 minutes receiving vaccine patient complaine...   \n",
       "3    WA     58.0   F  extreme fatigue dizziness could lift left arm ...   \n",
       "4    TX     47.0   F   injection site swelling redness warm touch itchy   \n",
       "\n",
       "                                          OTHER_MEDS  \\\n",
       "0                                               none   \n",
       "1  patient residing nursing facility see patients...   \n",
       "2                                               none   \n",
       "3                                               none   \n",
       "4                                               none   \n",
       "\n",
       "                                             CUR_ILL  \\\n",
       "0                                               none   \n",
       "1  patient residing nursing facility see patients...   \n",
       "2                                               none   \n",
       "3                                   kidney infection   \n",
       "4                                               none   \n",
       "\n",
       "                                             HISTORY  \\\n",
       "0                                      pcn bee venom   \n",
       "1  patient residing nursing facility see patients...   \n",
       "2                                          shellfish   \n",
       "3  diverticulitis mitral valve prolapse osteoarth...   \n",
       "4                                  history allergies   \n",
       "\n",
       "                              VAX_NAME  \n",
       "0          COVID19 (COVID19 (MODERNA))  \n",
       "1          COVID19 (COVID19 (MODERNA))  \n",
       "2  COVID19 (COVID19 (PFIZER-BIONTECH))  \n",
       "3          COVID19 (COVID19 (MODERNA))  \n",
       "4          COVID19 (COVID19 (MODERNA))  "
      ]
     },
     "execution_count": 47,
     "metadata": {},
     "output_type": "execute_result"
    }
   ],
   "source": [
    "df.head()"
   ]
  },
  {
   "cell_type": "code",
   "execution_count": 49,
   "metadata": {},
   "outputs": [],
   "source": [
    "## convert OTHER_MEDS to space if it is none, CUR_ILL to space if it is none, and HISTORY to space if it is no history and allergies\n",
    "\n",
    "df['OTHER_MEDS'] = df['OTHER_MEDS'].apply(lambda x: ' ' if x == 'None' else x)\n",
    "df['CUR_ILL'] = df['CUR_ILL'].apply(lambda x: ' ' if x == 'None' else x)\n",
    "df['HISTORY'] = df['HISTORY'].apply(lambda x: ' ' if x == 'history allergies' else x)"
   ]
  },
  {
   "cell_type": "code",
   "execution_count": 54,
   "metadata": {},
   "outputs": [
    {
     "data": {
      "text/plain": [
       "                                                                                      11501\n",
       "comments list nonencoded patient relevant history patient relevant history nonenan      678\n",
       "medical historyconcurrent conditions adverse event reported medical historynan          563\n",
       "nono                                                                                    260\n",
       "unknownunknown                                                                          200\n",
       "medical historyconcurrent conditions adverse event medical history reportednan          190\n",
       "nannone                                                                                 170\n",
       "nonenone                                                                                111\n",
       "nannka                                                                                  103\n",
       "nannkda                                                                                  90\n",
       "nka                                                                                      81\n",
       "nkda                                                                                     78\n",
       "medical historyconcurrent conditions covid19nan                                          77\n",
       "nanpenicillin                                                                            72\n",
       "Name: HISTORY, dtype: int64"
      ]
     },
     "execution_count": 54,
     "metadata": {},
     "output_type": "execute_result"
    }
   ],
   "source": [
    "df['HISTORY'].value_counts()[:14]"
   ]
  },
  {
   "cell_type": "code",
   "execution_count": null,
   "metadata": {},
   "outputs": [],
   "source": []
  },
  {
   "cell_type": "code",
   "execution_count": null,
   "metadata": {},
   "outputs": [],
   "source": []
  }
 ],
 "metadata": {
  "kernelspec": {
   "display_name": "Python 3.10.8 64-bit",
   "language": "python",
   "name": "python3"
  },
  "language_info": {
   "codemirror_mode": {
    "name": "ipython",
    "version": 3
   },
   "file_extension": ".py",
   "mimetype": "text/x-python",
   "name": "python",
   "nbconvert_exporter": "python",
   "pygments_lexer": "ipython3",
   "version": "3.10.8"
  },
  "orig_nbformat": 4,
  "vscode": {
   "interpreter": {
    "hash": "b0fa6594d8f4cbf19f97940f81e996739fb7646882a419484c72d19e05852a7e"
   }
  }
 },
 "nbformat": 4,
 "nbformat_minor": 2
}
